{
 "cells": [
  {
   "cell_type": "code",
   "execution_count": 136,
   "metadata": {},
   "outputs": [],
   "source": [
    "import csv\n",
    "from getpass import getpass\n",
    "from time import sleep\n",
    "from selenium import webdriver\n",
    "from selenium.webdriver.common.keys import Keys\n",
    "from selenium.common.exceptions import NoSuchElementException\n",
    "from msedge.selenium_tools import Edge, EdgeOptions"
   ]
  },
  {
   "cell_type": "code",
   "execution_count": 142,
   "metadata": {},
   "outputs": [
    {
     "name": "stderr",
     "output_type": "stream",
     "text": [
      "<ipython-input-142-e10ae420c489>:4: DeprecationWarning: use options instead of chrome_options\n",
      "  driver = webdriver.Chrome(chrome_driver_binary, chrome_options=options)  ##Open the driver\n"
     ]
    }
   ],
   "source": [
    "options = webdriver.ChromeOptions()  ##choose the chrome web browser\n",
    "options.binary_location = \"/Applications/Chrome.app/Contents/MacOS/Google Chrome\"  ##The binary location of Chrome\n",
    "chrome_driver_binary = \"/Users/charlesxiong/Downloads/chromedriver-2\"  ## The location of chromedriver: an open source tool for automated testing of webapps across many browsers\n",
    "driver = webdriver.Chrome(chrome_driver_binary, chrome_options=options)  ##Open the driver\n",
    "\n",
    "\n",
    "#https://stackoverflow.com/questions/46026987/selenium-gives-selenium-common-exceptions-webdriverexception-message-unknown\n",
    "#https://chromedriver.chromium.org"
   ]
  },
  {
   "cell_type": "code",
   "execution_count": 143,
   "metadata": {},
   "outputs": [],
   "source": [
    "driver.get('http://www.twitter.com/login')  #go to log-in page"
   ]
  },
  {
   "cell_type": "code",
   "execution_count": 144,
   "metadata": {},
   "outputs": [],
   "source": [
    "username = driver.find_element_by_xpath('//input[@name=\"session[username_or_email]\"]')  #Get the nodes related to username\n",
    "username.send_keys(\"Xinyu69120230\")  #input the username"
   ]
  },
  {
   "cell_type": "code",
   "execution_count": 145,
   "metadata": {},
   "outputs": [
    {
     "name": "stdout",
     "output_type": "stream",
     "text": [
      "········\n"
     ]
    }
   ],
   "source": [
    "##Now for the password\n",
    "askfor_input = getpass()  ##Don't let other see my pw\n",
    "password = driver.find_element_by_xpath('//input[@name=\"session[password]\"]')\n",
    "password.send_keys(askfor_input)  ##input pw that I just entered"
   ]
  },
  {
   "cell_type": "code",
   "execution_count": 146,
   "metadata": {},
   "outputs": [],
   "source": [
    "password.send_keys(Keys.RETURN)  ##click on login botton"
   ]
  },
  {
   "cell_type": "code",
   "execution_count": 149,
   "metadata": {},
   "outputs": [],
   "source": [
    "## Let search for some keywords:\n",
    "search_input = driver.find_element_by_xpath('//input[@aria-label = \"Search query\"]')  ##get the place to input keywords\n",
    "search_input.send_keys('#GameStop')  ##search for the keyword GameStop"
   ]
  },
  {
   "cell_type": "code",
   "execution_count": 150,
   "metadata": {},
   "outputs": [],
   "source": [
    "search_input.send_keys(Keys.RETURN)  #click for searching"
   ]
  },
  {
   "cell_type": "code",
   "execution_count": 124,
   "metadata": {},
   "outputs": [],
   "source": [
    "## Here we are tring to find tweets in a timeslot, so we need to click the \"Latest\"\n",
    "driver.find_element_by_link_text('Latest').click()"
   ]
  },
  {
   "cell_type": "code",
   "execution_count": 125,
   "metadata": {},
   "outputs": [],
   "source": [
    "tweets = driver.find_elements_by_xpath('//div[@data-testid=\"tweet\"]')  #Get the node related to tweets\n",
    "## And interetsing here: we use find_elements instead of find_element, trying to get a list of related nodes\n",
    "\n",
    "#hence by changing the index i, we can see the node we want\n",
    "i = 0\n",
    "tweet = tweets[i]"
   ]
  },
  {
   "cell_type": "code",
   "execution_count": 126,
   "metadata": {},
   "outputs": [
    {
     "data": {
      "text/plain": [
       "'Victoria'"
      ]
     },
     "execution_count": 126,
     "metadata": {},
     "output_type": "execute_result"
    }
   ],
   "source": [
    "users = tweet.find_element_by_xpath('.//span').text   #get the text information from the node related to user names\n",
    "users  \n",
    "##it is under a end node with <span>"
   ]
  },
  {
   "cell_type": "code",
   "execution_count": 127,
   "metadata": {},
   "outputs": [
    {
     "data": {
      "text/plain": [
       "'2021-05-06T21:49:30.000Z'"
      ]
     },
     "execution_count": 127,
     "metadata": {},
     "output_type": "execute_result"
    }
   ],
   "source": [
    "## now we try to get the date\n",
    "Date = tweet.find_element_by_xpath('.//time')  ##It is all about finding the right node...\n",
    "Date = Date.get_attribute(\"datetime\")  ## Extract information about time\n",
    "Date"
   ]
  },
  {
   "cell_type": "code",
   "execution_count": 128,
   "metadata": {},
   "outputs": [
    {
     "data": {
      "text/plain": [
       "\"@jahimes\\n YOU are a disgrace. Before you lecture WE THE PEOPLE about market risk why don't you do your job and LEGISLATE out the loophole of #nakedshorts . It is now apparent WHO you work for and it isn't us! #GME #GameStop #AMC\""
      ]
     },
     "execution_count": 128,
     "metadata": {},
     "output_type": "execute_result"
    }
   ],
   "source": [
    "# Now lets get content\n",
    "content = tweet.find_element_by_xpath('.//div[2]/div[2]/div[1]').text\n",
    "content"
   ]
  },
  {
   "cell_type": "code",
   "execution_count": 129,
   "metadata": {},
   "outputs": [
    {
     "data": {
      "text/plain": [
       "''"
      ]
     },
     "execution_count": 129,
     "metadata": {},
     "output_type": "execute_result"
    }
   ],
   "source": [
    "#Likes\n",
    "likes = tweet.find_element_by_xpath('.//div[@data-testid=\"like\"]').text\n",
    "likes"
   ]
  }
 ],
 "metadata": {
  "kernelspec": {
   "display_name": "Python 3",
   "language": "python",
   "name": "python3"
  },
  "language_info": {
   "codemirror_mode": {
    "name": "ipython",
    "version": 3
   },
   "file_extension": ".py",
   "mimetype": "text/x-python",
   "name": "python",
   "nbconvert_exporter": "python",
   "pygments_lexer": "ipython3",
   "version": "3.8.5"
  }
 },
 "nbformat": 4,
 "nbformat_minor": 4
}
